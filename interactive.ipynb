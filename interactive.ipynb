{
 "cells": [
  {
   "cell_type": "code",
   "execution_count": 110,
   "metadata": {},
   "outputs": [],
   "source": [
    "# Import modules\n",
    "import leafmap\n",
    "import time\n",
    "import random\n",
    "import geopandas as gpd\n",
    "import pandas as pd\n",
    "import numpy as np\n",
    "from ipyleaflet import DrawControl, MeasureControl, LayersControl, FullScreenControl\n",
    "from ipyleaflet import GeoData, GeoJSON\n",
    "from ipywidgets import widgets"
   ]
  },
  {
   "cell_type": "code",
   "execution_count": 111,
   "metadata": {},
   "outputs": [],
   "source": [
    "# Create a map at Boise, Idaho, zoom level 10\n",
    "m = leafmap.Map(center=[43.6159, -116.2023], zoom=14)"
   ]
  },
  {
   "cell_type": "code",
   "execution_count": 112,
   "metadata": {},
   "outputs": [],
   "source": [
    "# Define shapefile directory\n",
    "shp_dir = \"data/pcs\"\n",
    "pop_dist_shp = shp_dir + \"/population_distribution.shp\"\n",
    "road_network_shp = shp_dir + \"/road_network.shp\" \n",
    "\n",
    "# Read shapefile as gpd\n",
    "pop_dist_gdf = gpd.read_file(pop_dist_shp).to_crs(epsg=4326)\n",
    "road_network_gdf = gpd.read_file(road_network_shp).to_crs(epsg=4326)\n",
    "\n",
    "# Add shapefile to map\n",
    "# m.add(GeoData(\n",
    "#     geo_dataframe=pop_dist_gdf, \n",
    "#     name='Population Distribution', \n",
    "#     # style={'radius': 1, 'fillColor': 'green', 'color': 'red', 'fillOpacity': 1.0},\n",
    "#     point_style={'radius': 1, 'fillColor': 'green', 'color': 'green', 'fillOpacity': 0.5},\n",
    "#     )\n",
    "# )\n",
    "# m.add(GeoData(\n",
    "#     geo_dataframe=road_network_gdf, \n",
    "#     name='Road Network',\n",
    "#     style={'color': 'blue', 'weight': 3}, \n",
    "#     ))\n",
    "m.add_gdf(pop_dist_gdf, layer_name=\"Population Distribution\", point_radius=1, fill_color=\"green\", fill_opacity=0.5)\n",
    "# m.add_gdf(road_network_gdf, layer_name=\"Road Network\")\n"
   ]
  },
  {
   "cell_type": "code",
   "execution_count": 113,
   "metadata": {},
   "outputs": [
    {
     "data": {
      "application/vnd.jupyter.widget-view+json": {
       "model_id": "7f3605c5382a43fc96c455896e4cd190",
       "version_major": 2,
       "version_minor": 0
      },
      "text/plain": [
       "Map(center=[43.6159, -116.2023], controls=(ZoomControl(options=['position', 'zoom_in_text', 'zoom_in_title', '…"
      ]
     },
     "execution_count": 113,
     "metadata": {},
     "output_type": "execute_result"
    }
   ],
   "source": [
    "m"
   ]
  },
  {
   "cell_type": "code",
   "execution_count": 135,
   "metadata": {},
   "outputs": [],
   "source": [
    "# randomly shift population distribution\n",
    "def shift_population_distribution():\n",
    "    pop_dist_gdf[\"geometry\"] = pop_dist_gdf.translate(random.uniform(-0.0001, 0.0001), random.uniform(-0.0001, 0.0001))\n",
    "    return pop_dist_gdf\n",
    "\n",
    "updated_feature = shift_population_distribution()\n",
    "updated_geojson = updated_feature.__geo_interface__\n",
    "m.layers[1].data = updated_geojson"
   ]
  }
 ],
 "metadata": {
  "kernelspec": {
   "display_name": "geo",
   "language": "python",
   "name": "python3"
  },
  "language_info": {
   "codemirror_mode": {
    "name": "ipython",
    "version": 3
   },
   "file_extension": ".py",
   "mimetype": "text/x-python",
   "name": "python",
   "nbconvert_exporter": "python",
   "pygments_lexer": "ipython3",
   "version": "3.12.7"
  }
 },
 "nbformat": 4,
 "nbformat_minor": 2
}
